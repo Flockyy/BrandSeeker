{
 "cells": [
  {
   "cell_type": "code",
   "execution_count": 1,
   "metadata": {},
   "outputs": [],
   "source": [
    "import numpy as np\n",
    "import json\n",
    "from itertools import chain"
   ]
  },
  {
   "cell_type": "code",
   "execution_count": 23,
   "metadata": {},
   "outputs": [],
   "source": [
    "with open('output_nvpn.txt', 'r') as f:\n",
    "  data = json.load(f)"
   ]
  },
  {
   "cell_type": "code",
   "execution_count": 24,
   "metadata": {},
   "outputs": [],
   "source": [
    "def filter_output(output, video_frames, fps, seconds_threshold=1, confidence_threshold=0.6):\n",
    "  # Remove the brands that appears less than the threshold authorizes\n",
    "  frames_threshold = seconds_threshold * fps\n",
    "  output = {brand: content for brand, content in data.items() if len(content['frame']) > frames_threshold}\n",
    "\n",
    "  # Remove the brands with a median confidence under our threshold\n",
    "  confidence_threshold = 0.5\n",
    "  output = {brand: content['confidence'] for brand, content in output.items() if np.median(content['confidence']) > confidence_threshold}\n",
    "\n",
    "  # Banlanced formula to use both at the same time\n",
    "  # total_predicted_frames = len(set(chain(*[content['frames'] for content in data.values()])))\n",
    "  # {brand: (len(content['frames']) / total_predicted_frames) / np.median(content['confidence']) for brand, content in data.items()}\n",
    "\n",
    "  return output"
   ]
  },
  {
   "cell_type": "code",
   "execution_count": 25,
   "metadata": {},
   "outputs": [
    {
     "data": {
      "text/plain": [
       "['NordVPN']"
      ]
     },
     "execution_count": 25,
     "metadata": {},
     "output_type": "execute_result"
    }
   ],
   "source": [
    "brands = filter_output(data, 1000, 30, 1)\n",
    "[brand for brand in brands]"
   ]
  },
  {
   "cell_type": "code",
   "execution_count": 26,
   "metadata": {},
   "outputs": [
    {
     "data": {
      "text/plain": [
       "{'NordVPN': 1.2161660360956796}"
      ]
     },
     "execution_count": 26,
     "metadata": {},
     "output_type": "execute_result"
    }
   ],
   "source": [
    "# Division\n",
    "total_predicted_frames = len(set(chain(*[content['frame'] for content in data.values()])))\n",
    "{brand: (len(content['frame']) / total_predicted_frames) / (np.median(content['confidence'])) for brand, content in data.items()}"
   ]
  },
  {
   "cell_type": "code",
   "execution_count": 27,
   "metadata": {},
   "outputs": [
    {
     "data": {
      "text/plain": [
       "{'NordVPN': 0.8222561478614807}"
      ]
     },
     "execution_count": 27,
     "metadata": {},
     "output_type": "execute_result"
    }
   ],
   "source": [
    "# Multiplication\n",
    "total_predicted_frames = len(set(chain(*[content['frame'] for content in data.values()])))\n",
    "{brand: (len(content['frame']) / total_predicted_frames) * (np.median(content['confidence'])) for brand, content in data.items()}"
   ]
  },
  {
   "cell_type": "code",
   "execution_count": 28,
   "metadata": {},
   "outputs": [
    {
     "data": {
      "text/plain": [
       "{'NordVPN': 0.9111280739307404}"
      ]
     },
     "execution_count": 28,
     "metadata": {},
     "output_type": "execute_result"
    }
   ],
   "source": [
    "# Mean\n",
    "{brand: ((len(content['frame']) / total_predicted_frames) + (np.median(content['confidence']))) / 2 for brand, content in data.items()}"
   ]
  },
  {
   "cell_type": "code",
   "execution_count": 29,
   "metadata": {},
   "outputs": [
    {
     "data": {
      "text/plain": [
       "{'NordVPN': 0.9024594581024673}"
      ]
     },
     "execution_count": 29,
     "metadata": {},
     "output_type": "execute_result"
    }
   ],
   "source": [
    "# Moyenne harmonique\n",
    "total_predicted_frames = len(set(chain(*[content['frame'] for content in data.values()])))\n",
    "{brand: 2 / ( (1/((len(content['frame']) / total_predicted_frames))) + (1/(np.median(content['confidence']))) ) for brand, content in data.items()}"
   ]
  },
  {
   "cell_type": "code",
   "execution_count": 30,
   "metadata": {},
   "outputs": [
    {
     "data": {
      "text/plain": [
       "{'NordVPN': 0.8222561478614807}"
      ]
     },
     "execution_count": 30,
     "metadata": {},
     "output_type": "execute_result"
    }
   ],
   "source": [
    "{brand: np.median(content['confidence']) for brand, content in data.items()}"
   ]
  },
  {
   "cell_type": "code",
   "execution_count": 81,
   "metadata": {},
   "outputs": [
    {
     "data": {
      "text/plain": [
       "['Amazon',\n",
       " 'Brilliant.org',\n",
       " 'Crunchyroll',\n",
       " 'Dollar Shave Club',\n",
       " 'Logitech',\n",
       " 'Manscaped',\n",
       " 'audible']"
      ]
     },
     "execution_count": 81,
     "metadata": {},
     "output_type": "execute_result"
    }
   ],
   "source": [
    "[brand for brand, content in data.items() if len(content['frame']) >= 1]"
   ]
  },
  {
   "cell_type": "code",
   "execution_count": 38,
   "metadata": {},
   "outputs": [
    {
     "data": {
      "text/plain": [
       "['audible']"
      ]
     },
     "execution_count": 38,
     "metadata": {},
     "output_type": "execute_result"
    }
   ],
   "source": []
  },
  {
   "cell_type": "code",
   "execution_count": 66,
   "metadata": {},
   "outputs": [
    {
     "data": {
      "text/plain": [
       "807"
      ]
     },
     "execution_count": 66,
     "metadata": {},
     "output_type": "execute_result"
    }
   ],
   "source": [
    "len(set(chain(*[content['frame'] for brand, content in data.items()])))"
   ]
  },
  {
   "cell_type": "code",
   "execution_count": 58,
   "metadata": {},
   "outputs": [
    {
     "data": {
      "text/plain": [
       "{'Amazon': 5,\n",
       " 'Brilliant.org': 6,\n",
       " 'Crunchyroll': 6,\n",
       " 'Dollar Shave Club': 16,\n",
       " 'GFuel': 1,\n",
       " 'Genshin Impact': 3,\n",
       " 'Logitech': 10,\n",
       " 'Lootcrate': 4,\n",
       " 'Manscaped': 7,\n",
       " 'Uber Eats': 2,\n",
       " 'audible': 745,\n",
       " 'levlup': 4}"
      ]
     },
     "execution_count": 58,
     "metadata": {},
     "output_type": "execute_result"
    }
   ],
   "source": [
    "{brand: len(content['frame']) for brand, content in data.items()}"
   ]
  },
  {
   "cell_type": "code",
   "execution_count": null,
   "metadata": {},
   "outputs": [],
   "source": []
  }
 ],
 "metadata": {
  "kernelspec": {
   "display_name": "Python 3.10.4 64-bit",
   "language": "python",
   "name": "python3"
  },
  "language_info": {
   "codemirror_mode": {
    "name": "ipython",
    "version": 3
   },
   "file_extension": ".py",
   "mimetype": "text/x-python",
   "name": "python",
   "nbconvert_exporter": "python",
   "pygments_lexer": "ipython3",
   "version": "3.10.4"
  },
  "orig_nbformat": 4,
  "vscode": {
   "interpreter": {
    "hash": "916dbcbb3f70747c44a77c7bcd40155683ae19c65e1c03b4aa3499c5328201f1"
   }
  }
 },
 "nbformat": 4,
 "nbformat_minor": 2
}
